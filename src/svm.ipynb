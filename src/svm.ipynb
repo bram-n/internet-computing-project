{
 "cells": [
  {
   "cell_type": "code",
   "execution_count": 16,
   "metadata": {},
   "outputs": [],
   "source": [
    "# pip install scikit-learn"
   ]
  },
  {
   "cell_type": "code",
   "execution_count": 17,
   "metadata": {},
   "outputs": [],
   "source": [
    "from sklearn import datasets\n",
    "import pandas as pd\n",
    "from sklearn.model_selection import train_test_split\n",
    "from sklearn.svm import SVC\n",
    "from sklearn.preprocessing import StandardScaler"
   ]
  },
  {
   "cell_type": "code",
   "execution_count": 22,
   "metadata": {},
   "outputs": [
    {
     "name": "stdout",
     "output_type": "stream",
     "text": [
      "   runtimeMinutes  tomatoMeter  audienceScore  liked  p_drama  p_mystery  \\\n",
      "0              98           91             55      1        1          1   \n",
      "1              92           92             46      0        1          0   \n",
      "2              95           80             86      1        0          0   \n",
      "3             120          100             90      1        1          0   \n",
      "4              88           67             50      0        0          0   \n",
      "\n",
      "   p_thriller  p_biography  p_crime  p_adventure  ...  \\\n",
      "0           1            0        0            0  ...   \n",
      "1           0            1        1            0  ...   \n",
      "2           0            0        0            1  ...   \n",
      "3           0            0        0            0  ...   \n",
      "4           0            0        0            0  ...   \n",
      "\n",
      "   originalLanguage_Tagalog  originalLanguage_Tamil  originalLanguage_Telugu  \\\n",
      "0                     False                   False                    False   \n",
      "1                     False                   False                    False   \n",
      "2                     False                   False                    False   \n",
      "3                     False                   False                    False   \n",
      "4                     False                   False                    False   \n",
      "\n",
      "   originalLanguage_Thai  originalLanguage_Turkish  \\\n",
      "0                  False                     False   \n",
      "1                  False                     False   \n",
      "2                  False                     False   \n",
      "3                  False                     False   \n",
      "4                  False                     False   \n",
      "\n",
      "   originalLanguage_Ukrainian  originalLanguage_Unknown language  \\\n",
      "0                       False                              False   \n",
      "1                       False                              False   \n",
      "2                       False                              False   \n",
      "3                       False                              False   \n",
      "4                       False                              False   \n",
      "\n",
      "   originalLanguage_Vietnamese  originalLanguage_Welsh  originalLanguage_Wolof  \n",
      "0                        False                   False                   False  \n",
      "1                        False                   False                   False  \n",
      "2                        False                   False                   False  \n",
      "3                        False                   False                   False  \n",
      "4                        False                   False                   False  \n",
      "\n",
      "[5 rows x 12698 columns]\n"
     ]
    }
   ],
   "source": [
    "# Read your CSV file\n",
    "data = pd.read_csv('final_data.csv')\n",
    "titles = data['Title']\n",
    "data = pd.get_dummies(data.drop(columns = \"Title\"))\n",
    "print(data.head())"
   ]
  },
  {
   "cell_type": "code",
   "execution_count": null,
   "metadata": {},
   "outputs": [],
   "source": [
    "# Select training data (drop the 'Title' column)\n",
    "X = data.drop(columns = [\"liked\"])\n",
    "y = data[\"liked\"]"
   ]
  },
  {
   "cell_type": "code",
   "execution_count": null,
   "metadata": {},
   "outputs": [],
   "source": [
    "# Suppose train_data and test_data are already split\n",
    "\n",
    "# Apply one-hot encoding\n",
    "# train_data = pd.get_dummies(train_data)\n",
    "# test_data = pd.get_dummies(test_data)\n",
    "\n",
    "# # Align the columns between train and test (VERY IMPORTANT)\n",
    "# train_data, test_data = train_data.align(test_data, join='left', axis=1, fill_value=0)\n"
   ]
  },
  {
   "cell_type": "code",
   "execution_count": 15,
   "metadata": {},
   "outputs": [],
   "source": [
    "\n",
    "\n",
    "X_train, X_test, y_train, y_test = train_test_split(X, y, test_size=0.2, random_state=446)\n",
    "\n",
    "# Scale features (important for SVMs!)\n",
    "scaler = StandardScaler()\n",
    "X_train = scaler.fit_transform(X_train)\n",
    "X_test = scaler.transform(X_test)\n",
    "\n",
    "svm_model = SVC(kernel='linear')\n",
    "\n",
    "\n",
    "svm_model.fit(X_train, y_train)\n",
    "\n",
    "\n",
    "predictions = svm_model.predict(X_test)"
   ]
  },
  {
   "cell_type": "code",
   "execution_count": 21,
   "metadata": {},
   "outputs": [
    {
     "name": "stdout",
     "output_type": "stream",
     "text": [
      "[1 1 0 ... 1 1 1]\n"
     ]
    }
   ],
   "source": [
    "print(predictions)"
   ]
  },
  {
   "cell_type": "code",
   "execution_count": 19,
   "metadata": {},
   "outputs": [
    {
     "name": "stdout",
     "output_type": "stream",
     "text": [
      "Accuracy: 0.9012765957446809\n"
     ]
    }
   ],
   "source": [
    "\n",
    "from sklearn.metrics import accuracy_score\n",
    "print(\"Accuracy:\", accuracy_score(y_test, predictions))"
   ]
  }
 ],
 "metadata": {
  "kernelspec": {
   "display_name": "Python 3",
   "language": "python",
   "name": "python3"
  },
  "language_info": {
   "codemirror_mode": {
    "name": "ipython",
    "version": 3
   },
   "file_extension": ".py",
   "mimetype": "text/x-python",
   "name": "python",
   "nbconvert_exporter": "python",
   "pygments_lexer": "ipython3",
   "version": "3.13.1"
  }
 },
 "nbformat": 4,
 "nbformat_minor": 2
}
